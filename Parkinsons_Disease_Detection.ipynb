{
  "nbformat": 4,
  "nbformat_minor": 0,
  "metadata": {
    "colab": {
      "name": "Parkinsons_Disease_Detection.ipynb",
      "provenance": []
    },
    "kernelspec": {
      "name": "python3",
      "display_name": "Python 3"
    },
    "language_info": {
      "name": "python"
    }
  },
  "cells": [
    {
      "cell_type": "markdown",
      "metadata": {
        "id": "Ml2Y3h6peqcO"
      },
      "source": [
        "# **Detecting Parkinson's Disease**\n",
        "\n",
        "***By-Anand Sharma*** "
      ]
    },
    {
      "cell_type": "markdown",
      "metadata": {
        "id": "zanUoXQIo32l"
      },
      "source": [
        "## **Importing libraries/modules**"
      ]
    },
    {
      "cell_type": "code",
      "metadata": {
        "id": "QktMNzpzbtXW"
      },
      "source": [
        "#Importing libraries/modules\n",
        "\n",
        "import numpy as np\n",
        "import pandas as pd\n",
        "from sklearn.preprocessing import MinMaxScaler\n",
        "from sklearn.model_selection import train_test_split\n",
        "from sklearn.metrics import accuracy_score\n",
        "from xgboost import XGBClassifier"
      ],
      "execution_count": 31,
      "outputs": []
    },
    {
      "cell_type": "markdown",
      "metadata": {
        "id": "CYaJ_qlmpCSO"
      },
      "source": [
        "## **Read the data**"
      ]
    },
    {
      "cell_type": "code",
      "metadata": {
        "id": "nxdRbttpdZAD"
      },
      "source": [
        "#Read the data\n",
        "\n",
        "df=pd.read_csv('https://raw.githubusercontent.com/chaitanyabaranwal/ParkinsonAnalysis/master/parkinsons.csv')\n"
      ],
      "execution_count": 2,
      "outputs": []
    },
    {
      "cell_type": "markdown",
      "metadata": {
        "id": "sik_ieODpNWc"
      },
      "source": [
        "## **Print the data**"
      ]
    },
    {
      "cell_type": "code",
      "metadata": {
        "colab": {
          "base_uri": "https://localhost:8080/",
          "height": 243
        },
        "id": "1TGzMmC3fAcO",
        "outputId": "4f6ba091-3be6-4255-80fe-8af971ef4b69"
      },
      "source": [
        "#Printing the 1st 5 rows of the data\n",
        "print(df.shape)\n",
        "df.head()"
      ],
      "execution_count": 10,
      "outputs": [
        {
          "output_type": "stream",
          "text": [
            "(195, 24)\n"
          ],
          "name": "stdout"
        },
        {
          "output_type": "execute_result",
          "data": {
            "text/html": [
              "<div>\n",
              "<style scoped>\n",
              "    .dataframe tbody tr th:only-of-type {\n",
              "        vertical-align: middle;\n",
              "    }\n",
              "\n",
              "    .dataframe tbody tr th {\n",
              "        vertical-align: top;\n",
              "    }\n",
              "\n",
              "    .dataframe thead th {\n",
              "        text-align: right;\n",
              "    }\n",
              "</style>\n",
              "<table border=\"1\" class=\"dataframe\">\n",
              "  <thead>\n",
              "    <tr style=\"text-align: right;\">\n",
              "      <th></th>\n",
              "      <th>name</th>\n",
              "      <th>MDVP:Fo(Hz)</th>\n",
              "      <th>MDVP:Fhi(Hz)</th>\n",
              "      <th>MDVP:Flo(Hz)</th>\n",
              "      <th>MDVP:Jitter(%)</th>\n",
              "      <th>MDVP:Jitter(Abs)</th>\n",
              "      <th>MDVP:RAP</th>\n",
              "      <th>MDVP:PPQ</th>\n",
              "      <th>Jitter:DDP</th>\n",
              "      <th>MDVP:Shimmer</th>\n",
              "      <th>MDVP:Shimmer(dB)</th>\n",
              "      <th>Shimmer:APQ3</th>\n",
              "      <th>Shimmer:APQ5</th>\n",
              "      <th>MDVP:APQ</th>\n",
              "      <th>Shimmer:DDA</th>\n",
              "      <th>NHR</th>\n",
              "      <th>HNR</th>\n",
              "      <th>RPDE</th>\n",
              "      <th>DFA</th>\n",
              "      <th>spread1</th>\n",
              "      <th>spread2</th>\n",
              "      <th>D2</th>\n",
              "      <th>PPE</th>\n",
              "      <th>status</th>\n",
              "    </tr>\n",
              "  </thead>\n",
              "  <tbody>\n",
              "    <tr>\n",
              "      <th>0</th>\n",
              "      <td>phon_R01_S01_1</td>\n",
              "      <td>119.992</td>\n",
              "      <td>157.302</td>\n",
              "      <td>74.997</td>\n",
              "      <td>0.00784</td>\n",
              "      <td>0.00007</td>\n",
              "      <td>0.00370</td>\n",
              "      <td>0.00554</td>\n",
              "      <td>0.01109</td>\n",
              "      <td>0.04374</td>\n",
              "      <td>0.426</td>\n",
              "      <td>0.02182</td>\n",
              "      <td>0.03130</td>\n",
              "      <td>0.02971</td>\n",
              "      <td>0.06545</td>\n",
              "      <td>0.02211</td>\n",
              "      <td>21.033</td>\n",
              "      <td>0.414783</td>\n",
              "      <td>0.815285</td>\n",
              "      <td>-4.813031</td>\n",
              "      <td>0.266482</td>\n",
              "      <td>2.301442</td>\n",
              "      <td>0.284654</td>\n",
              "      <td>1</td>\n",
              "    </tr>\n",
              "    <tr>\n",
              "      <th>1</th>\n",
              "      <td>phon_R01_S01_2</td>\n",
              "      <td>122.400</td>\n",
              "      <td>148.650</td>\n",
              "      <td>113.819</td>\n",
              "      <td>0.00968</td>\n",
              "      <td>0.00008</td>\n",
              "      <td>0.00465</td>\n",
              "      <td>0.00696</td>\n",
              "      <td>0.01394</td>\n",
              "      <td>0.06134</td>\n",
              "      <td>0.626</td>\n",
              "      <td>0.03134</td>\n",
              "      <td>0.04518</td>\n",
              "      <td>0.04368</td>\n",
              "      <td>0.09403</td>\n",
              "      <td>0.01929</td>\n",
              "      <td>19.085</td>\n",
              "      <td>0.458359</td>\n",
              "      <td>0.819521</td>\n",
              "      <td>-4.075192</td>\n",
              "      <td>0.335590</td>\n",
              "      <td>2.486855</td>\n",
              "      <td>0.368674</td>\n",
              "      <td>1</td>\n",
              "    </tr>\n",
              "    <tr>\n",
              "      <th>2</th>\n",
              "      <td>phon_R01_S01_3</td>\n",
              "      <td>116.682</td>\n",
              "      <td>131.111</td>\n",
              "      <td>111.555</td>\n",
              "      <td>0.01050</td>\n",
              "      <td>0.00009</td>\n",
              "      <td>0.00544</td>\n",
              "      <td>0.00781</td>\n",
              "      <td>0.01633</td>\n",
              "      <td>0.05233</td>\n",
              "      <td>0.482</td>\n",
              "      <td>0.02757</td>\n",
              "      <td>0.03858</td>\n",
              "      <td>0.03590</td>\n",
              "      <td>0.08270</td>\n",
              "      <td>0.01309</td>\n",
              "      <td>20.651</td>\n",
              "      <td>0.429895</td>\n",
              "      <td>0.825288</td>\n",
              "      <td>-4.443179</td>\n",
              "      <td>0.311173</td>\n",
              "      <td>2.342259</td>\n",
              "      <td>0.332634</td>\n",
              "      <td>1</td>\n",
              "    </tr>\n",
              "    <tr>\n",
              "      <th>3</th>\n",
              "      <td>phon_R01_S01_4</td>\n",
              "      <td>116.676</td>\n",
              "      <td>137.871</td>\n",
              "      <td>111.366</td>\n",
              "      <td>0.00997</td>\n",
              "      <td>0.00009</td>\n",
              "      <td>0.00502</td>\n",
              "      <td>0.00698</td>\n",
              "      <td>0.01505</td>\n",
              "      <td>0.05492</td>\n",
              "      <td>0.517</td>\n",
              "      <td>0.02924</td>\n",
              "      <td>0.04005</td>\n",
              "      <td>0.03772</td>\n",
              "      <td>0.08771</td>\n",
              "      <td>0.01353</td>\n",
              "      <td>20.644</td>\n",
              "      <td>0.434969</td>\n",
              "      <td>0.819235</td>\n",
              "      <td>-4.117501</td>\n",
              "      <td>0.334147</td>\n",
              "      <td>2.405554</td>\n",
              "      <td>0.368975</td>\n",
              "      <td>1</td>\n",
              "    </tr>\n",
              "    <tr>\n",
              "      <th>4</th>\n",
              "      <td>phon_R01_S01_5</td>\n",
              "      <td>116.014</td>\n",
              "      <td>141.781</td>\n",
              "      <td>110.655</td>\n",
              "      <td>0.01284</td>\n",
              "      <td>0.00011</td>\n",
              "      <td>0.00655</td>\n",
              "      <td>0.00908</td>\n",
              "      <td>0.01966</td>\n",
              "      <td>0.06425</td>\n",
              "      <td>0.584</td>\n",
              "      <td>0.03490</td>\n",
              "      <td>0.04825</td>\n",
              "      <td>0.04465</td>\n",
              "      <td>0.10470</td>\n",
              "      <td>0.01767</td>\n",
              "      <td>19.649</td>\n",
              "      <td>0.417356</td>\n",
              "      <td>0.823484</td>\n",
              "      <td>-3.747787</td>\n",
              "      <td>0.234513</td>\n",
              "      <td>2.332180</td>\n",
              "      <td>0.410335</td>\n",
              "      <td>1</td>\n",
              "    </tr>\n",
              "  </tbody>\n",
              "</table>\n",
              "</div>"
            ],
            "text/plain": [
              "             name  MDVP:Fo(Hz)  MDVP:Fhi(Hz)  ...        D2       PPE  status\n",
              "0  phon_R01_S01_1      119.992       157.302  ...  2.301442  0.284654       1\n",
              "1  phon_R01_S01_2      122.400       148.650  ...  2.486855  0.368674       1\n",
              "2  phon_R01_S01_3      116.682       131.111  ...  2.342259  0.332634       1\n",
              "3  phon_R01_S01_4      116.676       137.871  ...  2.405554  0.368975       1\n",
              "4  phon_R01_S01_5      116.014       141.781  ...  2.332180  0.410335       1\n",
              "\n",
              "[5 rows x 24 columns]"
            ]
          },
          "metadata": {
            "tags": []
          },
          "execution_count": 10
        }
      ]
    },
    {
      "cell_type": "markdown",
      "metadata": {
        "id": "p5Y-nhYHpSp2"
      },
      "source": [
        "## **Extract features and labes from data set.**"
      ]
    },
    {
      "cell_type": "code",
      "metadata": {
        "id": "ona-XtElfT-e"
      },
      "source": [
        "#Extract features and labes from data set.\n",
        "\n",
        "features=df.loc[:,df.columns!='status'].values[:,1:]\n",
        "labels=df.loc[:,'status'].values[:]#or use just .values for a column"
      ],
      "execution_count": 24,
      "outputs": []
    },
    {
      "cell_type": "markdown",
      "metadata": {
        "id": "vDt7Oy7wpZX7"
      },
      "source": [
        "## **Displaying extracted features and labels.**"
      ]
    },
    {
      "cell_type": "code",
      "metadata": {
        "colab": {
          "base_uri": "https://localhost:8080/",
          "height": 399
        },
        "id": "8tnSfbbKhH7x",
        "outputId": "9715724e-efae-4f95-b9da-ce156d39e343"
      },
      "source": [
        "#Displaying extracted features and labels.\n",
        "\n",
        "print(features.shape)\n",
        "print(labels.shape)\n",
        "\n",
        "display(features)\n",
        "labels[:]"
      ],
      "execution_count": 27,
      "outputs": [
        {
          "output_type": "stream",
          "text": [
            "(195, 22)\n",
            "(195,)\n"
          ],
          "name": "stdout"
        },
        {
          "output_type": "display_data",
          "data": {
            "text/plain": [
              "array([[119.992, 157.30200000000002, 74.997, ..., 0.266482,\n",
              "        2.3014419999999998, 0.284654],\n",
              "       [122.4, 148.65, 113.819, ..., 0.33559, 2.486855, 0.368674],\n",
              "       [116.682, 131.111, 111.555, ..., 0.311173, 2.342259,\n",
              "        0.33263400000000004],\n",
              "       ...,\n",
              "       [174.688, 240.005, 74.28699999999999, ..., 0.158453,\n",
              "        2.6797720000000003, 0.13172799999999998],\n",
              "       [198.764, 396.961, 74.904, ..., 0.207454, 2.138608, 0.123306],\n",
              "       [214.28900000000002, 260.277, 77.973, ..., 0.190667, 2.555477,\n",
              "        0.148569]], dtype=object)"
            ]
          },
          "metadata": {
            "tags": []
          }
        },
        {
          "output_type": "execute_result",
          "data": {
            "text/plain": [
              "array([1, 1, 1, 1, 1, 1, 1, 1, 1, 1, 1, 1, 1, 1, 1, 1, 1, 1, 1, 1, 1, 1,\n",
              "       1, 1, 1, 1, 1, 1, 1, 1, 0, 0, 0, 0, 0, 0, 1, 1, 1, 1, 1, 1, 0, 0,\n",
              "       0, 0, 0, 0, 0, 0, 0, 0, 0, 0, 1, 1, 1, 1, 1, 1, 0, 0, 0, 0, 0, 0,\n",
              "       1, 1, 1, 1, 1, 1, 1, 1, 1, 1, 1, 1, 1, 1, 1, 1, 1, 1, 1, 1, 1, 1,\n",
              "       1, 1, 1, 1, 1, 1, 1, 1, 1, 1, 1, 1, 1, 1, 1, 1, 1, 1, 1, 1, 1, 1,\n",
              "       1, 1, 1, 1, 1, 1, 1, 1, 1, 1, 1, 1, 1, 1, 1, 1, 1, 1, 1, 1, 1, 1,\n",
              "       1, 1, 1, 1, 1, 1, 1, 1, 1, 1, 1, 1, 1, 1, 1, 1, 1, 1, 1, 1, 1, 1,\n",
              "       1, 1, 1, 1, 1, 1, 1, 1, 1, 1, 1, 0, 0, 0, 0, 0, 0, 0, 0, 0, 0, 0,\n",
              "       0, 1, 1, 1, 1, 1, 1, 0, 0, 0, 0, 0, 0, 0, 0, 0, 0, 0, 0])"
            ]
          },
          "metadata": {
            "tags": []
          },
          "execution_count": 27
        }
      ]
    },
    {
      "cell_type": "markdown",
      "metadata": {
        "id": "INpSnWM8pjV2"
      },
      "source": [
        "## **Count of 0/1 in labels.**"
      ]
    },
    {
      "cell_type": "code",
      "metadata": {
        "colab": {
          "base_uri": "https://localhost:8080/"
        },
        "id": "GaeCntLQjXYn",
        "outputId": "6548b524-752a-462a-fe33-53ccdf4ce4db"
      },
      "source": [
        "#Count of 0/1 in labels\n",
        "print('No. of 1s :{}'.format(labels[labels==1].shape[0]))\n",
        "print('No. of 0s :{}'.format(labels[labels==0].shape[0]))"
      ],
      "execution_count": 30,
      "outputs": [
        {
          "output_type": "stream",
          "text": [
            "No. of 1s :147\n",
            "No. of 0s :48\n"
          ],
          "name": "stdout"
        }
      ]
    },
    {
      "cell_type": "markdown",
      "metadata": {
        "id": "XheFqmxapqKd"
      },
      "source": [
        "## **Scale features b/w -1 and 1.**"
      ]
    },
    {
      "cell_type": "code",
      "metadata": {
        "id": "txqN0jDaj3QB"
      },
      "source": [
        "#Scale features b/w -1 and 1\n",
        "\n",
        "scaler=MinMaxScaler((-1,1))\n",
        "x=scaler.fit_transform(features)\n",
        "y=labels"
      ],
      "execution_count": 32,
      "outputs": []
    },
    {
      "cell_type": "markdown",
      "metadata": {
        "id": "GpKCCA6CpvNO"
      },
      "source": [
        "## **Split the dataset.**"
      ]
    },
    {
      "cell_type": "code",
      "metadata": {
        "id": "wW_AWj7TkkQZ"
      },
      "source": [
        "#Split the dataset into train set and test set\n",
        "\n",
        "x_train,x_test,y_train,y_test=train_test_split(x,y,test_size=0.2,random_state=7)"
      ],
      "execution_count": 36,
      "outputs": []
    },
    {
      "cell_type": "code",
      "metadata": {
        "colab": {
          "base_uri": "https://localhost:8080/"
        },
        "id": "lghCRoBMlciN",
        "outputId": "4f5521a0-8747-440f-a2f5-dd4e67a8b1f7"
      },
      "source": [
        "print(x_train.shape)\n",
        "print(y_train.shape)"
      ],
      "execution_count": 37,
      "outputs": [
        {
          "output_type": "stream",
          "text": [
            "(156, 22)\n",
            "(156,)\n"
          ],
          "name": "stdout"
        }
      ]
    },
    {
      "cell_type": "markdown",
      "metadata": {
        "id": "1AbbxJqKp7nu"
      },
      "source": [
        "## **Train the model.**"
      ]
    },
    {
      "cell_type": "code",
      "metadata": {
        "colab": {
          "base_uri": "https://localhost:8080/"
        },
        "id": "K9cRTK4dk8Iq",
        "outputId": "5183726e-99f9-4bdb-d02e-836fca63e35f"
      },
      "source": [
        "#Train the model\n",
        "\n",
        "model=XGBClassifier()\n",
        "model.fit(x_train,y_train)"
      ],
      "execution_count": 38,
      "outputs": [
        {
          "output_type": "execute_result",
          "data": {
            "text/plain": [
              "XGBClassifier(base_score=0.5, booster='gbtree', colsample_bylevel=1,\n",
              "              colsample_bynode=1, colsample_bytree=1, gamma=0,\n",
              "              learning_rate=0.1, max_delta_step=0, max_depth=3,\n",
              "              min_child_weight=1, missing=None, n_estimators=100, n_jobs=1,\n",
              "              nthread=None, objective='binary:logistic', random_state=0,\n",
              "              reg_alpha=0, reg_lambda=1, scale_pos_weight=1, seed=None,\n",
              "              silent=None, subsample=1, verbosity=1)"
            ]
          },
          "metadata": {
            "tags": []
          },
          "execution_count": 38
        }
      ]
    },
    {
      "cell_type": "markdown",
      "metadata": {
        "id": "trjcD7RLqEQl"
      },
      "source": [
        "## **Calculate Model Accuracy.**"
      ]
    },
    {
      "cell_type": "code",
      "metadata": {
        "colab": {
          "base_uri": "https://localhost:8080/"
        },
        "id": "tncns4QQludJ",
        "outputId": "cbf98bae-d389-486e-9ddf-d49bc34a2711"
      },
      "source": [
        "#Calculate Model Accuracy\n",
        "\n",
        "y_pred=model.predict(x_test)\n",
        "print('Model Accuracy : {} %'.format(accuracy_score(y_test,y_pred)*100))"
      ],
      "execution_count": 42,
      "outputs": [
        {
          "output_type": "stream",
          "text": [
            "Model Accuracy : 94.87179487179486 %\n"
          ],
          "name": "stdout"
        }
      ]
    }
  ]
}